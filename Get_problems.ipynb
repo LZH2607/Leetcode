{
 "cells": [
  {
   "cell_type": "code",
   "execution_count": 1,
   "id": "97408329",
   "metadata": {},
   "outputs": [],
   "source": [
    "from selenium import webdriver\n",
    "from bs4 import BeautifulSoup\n",
    "import requests\n",
    "import urllib\n",
    "import time\n",
    "import numpy as np\n",
    "import pandas as pd"
   ]
  },
  {
   "cell_type": "code",
   "execution_count": 2,
   "id": "3172790c",
   "metadata": {},
   "outputs": [],
   "source": [
    "# 网页地址\n",
    "url = \"https://leetcode-cn.com/problemset/all/\""
   ]
  },
  {
   "cell_type": "code",
   "execution_count": 3,
   "id": "dd3f3aeb",
   "metadata": {},
   "outputs": [
    {
     "name": "stderr",
     "output_type": "stream",
     "text": [
      "C:\\Users\\26078\\AppData\\Local\\Temp\\ipykernel_8484\\3781760209.py:2: DeprecationWarning: executable_path has been deprecated, please pass in a Service object\n",
      "  driver = webdriver.Chrome(r\"./chromedriver.exe\")\n"
     ]
    }
   ],
   "source": [
    "# 打开浏览器\n",
    "driver = webdriver.Chrome(r\"./chromedriver.exe\")"
   ]
  },
  {
   "cell_type": "code",
   "execution_count": 4,
   "id": "678e1267",
   "metadata": {},
   "outputs": [],
   "source": [
    "# 打开网页\n",
    "driver.get(url)"
   ]
  },
  {
   "cell_type": "code",
   "execution_count": 7,
   "id": "982b29cd",
   "metadata": {},
   "outputs": [
    {
     "name": "stderr",
     "output_type": "stream",
     "text": [
      "C:\\Users\\26078\\AppData\\Local\\Temp\\ipykernel_8484\\2875480448.py:1: DeprecationWarning: find_elements_by_css_selector is deprecated. Please use find_elements(by=By.CSS_SELECTOR, value=css_selector) instead\n",
      "  lis = driver.find_elements_by_css_selector(\"div\")\n"
     ]
    }
   ],
   "source": [
    "lis = driver.find_elements_by_css_selector(\"div\")"
   ]
  },
  {
   "cell_type": "code",
   "execution_count": null,
   "id": "cb8dd3a5",
   "metadata": {},
   "outputs": [],
   "source": []
  },
  {
   "cell_type": "code",
   "execution_count": null,
   "id": "30718e82",
   "metadata": {},
   "outputs": [],
   "source": []
  },
  {
   "cell_type": "code",
   "execution_count": null,
   "id": "ebe40989",
   "metadata": {},
   "outputs": [],
   "source": []
  }
 ],
 "metadata": {
  "kernelspec": {
   "display_name": "Python 3 (ipykernel)",
   "language": "python",
   "name": "python3"
  },
  "language_info": {
   "codemirror_mode": {
    "name": "ipython",
    "version": 3
   },
   "file_extension": ".py",
   "mimetype": "text/x-python",
   "name": "python",
   "nbconvert_exporter": "python",
   "pygments_lexer": "ipython3",
   "version": "3.8.0"
  }
 },
 "nbformat": 4,
 "nbformat_minor": 5
}
