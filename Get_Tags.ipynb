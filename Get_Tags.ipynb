{
 "cells": [
  {
   "cell_type": "code",
   "execution_count": 1,
   "id": "cebb2942",
   "metadata": {},
   "outputs": [],
   "source": [
    "from selenium import webdriver\n",
    "from bs4 import BeautifulSoup\n",
    "import requests\n",
    "import urllib\n",
    "import time\n",
    "import numpy as np\n",
    "import pandas as pd\n",
    "from selenium.webdriver.common.action_chains import ActionChains\n",
    "from selenium.webdriver.common.by import By\n",
    "import math"
   ]
  },
  {
   "cell_type": "code",
   "execution_count": 2,
   "id": "dbb5e541",
   "metadata": {},
   "outputs": [],
   "source": [
    "# 网页地址\n",
    "url = \"https://leetcode-cn.com/problemset/all/\""
   ]
  },
  {
   "cell_type": "code",
   "execution_count": 3,
   "id": "e8799e52",
   "metadata": {},
   "outputs": [
    {
     "name": "stderr",
     "output_type": "stream",
     "text": [
      "C:\\Users\\26078\\AppData\\Local\\Temp\\ipykernel_9760\\3781760209.py:2: DeprecationWarning: executable_path has been deprecated, please pass in a Service object\n",
      "  driver = webdriver.Chrome(r\"./chromedriver.exe\")\n"
     ]
    }
   ],
   "source": [
    "# 打开浏览器\n",
    "driver = webdriver.Chrome(r\"./chromedriver.exe\")"
   ]
  },
  {
   "cell_type": "code",
   "execution_count": 4,
   "id": "8cd46dfa",
   "metadata": {},
   "outputs": [],
   "source": [
    "# 打开网页\n",
    "driver.get(url)"
   ]
  },
  {
   "cell_type": "code",
   "execution_count": 5,
   "id": "16571310",
   "metadata": {},
   "outputs": [],
   "source": [
    "tag = []\n",
    "a = []\n",
    "ml = []\n",
    "page = []"
   ]
  },
  {
   "cell_type": "code",
   "execution_count": 6,
   "id": "aef8a5a9",
   "metadata": {},
   "outputs": [
    {
     "name": "stdout",
     "output_type": "stream",
     "text": [
      "71\n"
     ]
    },
    {
     "name": "stderr",
     "output_type": "stream",
     "text": [
      "C:\\Users\\26078\\AppData\\Local\\Temp\\ipykernel_9760\\4218607854.py:1: DeprecationWarning: find_elements_by_css_selector is deprecated. Please use find_elements(by=By.CSS_SELECTOR, value=css_selector) instead\n",
      "  a_list = driver.find_elements_by_css_selector(\"div.flex-wrap > div > a\")\n"
     ]
    }
   ],
   "source": [
    "a_list = driver.find_elements_by_css_selector(\"div.flex-wrap > div > a\")\n",
    "print(len(a_list))"
   ]
  },
  {
   "cell_type": "code",
   "execution_count": 7,
   "id": "067eddd9",
   "metadata": {},
   "outputs": [
    {
     "name": "stdout",
     "output_type": "stream",
     "text": [
      "71\n"
     ]
    },
    {
     "name": "stderr",
     "output_type": "stream",
     "text": [
      "C:\\Users\\26078\\AppData\\Local\\Temp\\ipykernel_9760\\2575084650.py:1: DeprecationWarning: find_elements_by_css_selector is deprecated. Please use find_elements(by=By.CSS_SELECTOR, value=css_selector) instead\n",
      "  tag_list = driver.find_elements_by_css_selector(\"div.flex-wrap > div > a > span.whitespace-nowrap\")\n"
     ]
    }
   ],
   "source": [
    "tag_list = driver.find_elements_by_css_selector(\"div.flex-wrap > div > a > span.whitespace-nowrap\")\n",
    "print(len(tag_list))"
   ]
  },
  {
   "cell_type": "code",
   "execution_count": 8,
   "id": "c245c7e0",
   "metadata": {},
   "outputs": [
    {
     "name": "stdout",
     "output_type": "stream",
     "text": [
      "71\n"
     ]
    },
    {
     "name": "stderr",
     "output_type": "stream",
     "text": [
      "C:\\Users\\26078\\AppData\\Local\\Temp\\ipykernel_9760\\3854219476.py:1: DeprecationWarning: find_elements_by_css_selector is deprecated. Please use find_elements(by=By.CSS_SELECTOR, value=css_selector) instead\n",
      "  ml_list = driver.find_elements_by_css_selector(\"div.flex-wrap > div > a > span.ml-1\")\n"
     ]
    }
   ],
   "source": [
    "ml_list = driver.find_elements_by_css_selector(\"div.flex-wrap > div > a > span.ml-1\")\n",
    "print(len(ml_list))"
   ]
  },
  {
   "cell_type": "code",
   "execution_count": 9,
   "id": "4b8b3c83",
   "metadata": {
    "scrolled": true
   },
   "outputs": [
    {
     "name": "stdout",
     "output_type": "stream",
     "text": [
      "数组 https://leetcode-cn.com/tag/array/ 1225 25\n",
      "字符串 https://leetcode-cn.com/tag/string/ 593 12\n",
      "哈希表 https://leetcode-cn.com/tag/hash-table/ 437 9\n",
      "动态规划 https://leetcode-cn.com/tag/dynamic-programming/ 428 9\n",
      "数学 https://leetcode-cn.com/tag/math/ 415 9\n",
      "深度优先搜索 https://leetcode-cn.com/tag/depth-first-search/ 294 6\n",
      "排序 https://leetcode-cn.com/tag/sorting/ 275 6\n",
      "贪心 https://leetcode-cn.com/tag/greedy/ 241 5\n",
      "广度优先搜索 https://leetcode-cn.com/tag/breadth-first-search/ 239 5\n",
      "树 https://leetcode-cn.com/tag/tree/ 228 5\n",
      "二叉树 https://leetcode-cn.com/tag/binary-tree/ 199 4\n",
      "二分查找 https://leetcode-cn.com/tag/binary-search/ 198 4\n",
      "数据库 https://leetcode-cn.com/tag/database/ 192 4\n",
      "矩阵 https://leetcode-cn.com/tag/matrix/ 185 4\n",
      "双指针 https://leetcode-cn.com/tag/two-pointers/ 181 4\n",
      "位运算 https://leetcode-cn.com/tag/bit-manipulation/ 162 4\n",
      "栈 https://leetcode-cn.com/tag/stack/ 147 3\n",
      "设计 https://leetcode-cn.com/tag/design/ 135 3\n",
      "堆（优先队列） https://leetcode-cn.com/tag/heap-priority-queue/ 122 3\n",
      "回溯 https://leetcode-cn.com/tag/backtracking/ 113 3\n",
      "图 https://leetcode-cn.com/tag/graph/ 109 3\n",
      "模拟 https://leetcode-cn.com/tag/simulation/ 98 2\n",
      "链表 https://leetcode-cn.com/tag/linked-list/ 98 2\n",
      "前缀和 https://leetcode-cn.com/tag/prefix-sum/ 86 2\n",
      "计数 https://leetcode-cn.com/tag/counting/ 85 2\n",
      "滑动窗口 https://leetcode-cn.com/tag/sliding-window/ 80 2\n",
      "并查集 https://leetcode-cn.com/tag/union-find/ 71 2\n",
      "递归 https://leetcode-cn.com/tag/recursion/ 61 2\n",
      "二叉搜索树 https://leetcode-cn.com/tag/binary-search-tree/ 54 2\n",
      "分治 https://leetcode-cn.com/tag/divide-and-conquer/ 52 2\n",
      "字典树 https://leetcode-cn.com/tag/trie/ 49 1\n",
      "单调栈 https://leetcode-cn.com/tag/monotonic-stack/ 47 1\n",
      "有序集合 https://leetcode-cn.com/tag/ordered-set/ 45 1\n",
      "队列 https://leetcode-cn.com/tag/queue/ 40 1\n",
      "状态压缩 https://leetcode-cn.com/tag/bitmask/ 36 1\n",
      "几何 https://leetcode-cn.com/tag/geometry/ 35 1\n",
      "记忆化搜索 https://leetcode-cn.com/tag/memoization/ 35 1\n",
      "枚举 https://leetcode-cn.com/tag/enumeration/ 31 1\n",
      "线段树 https://leetcode-cn.com/tag/segment-tree/ 29 1\n",
      "拓扑排序 https://leetcode-cn.com/tag/topological-sort/ 28 1\n",
      "哈希函数 https://leetcode-cn.com/tag/hash-function/ 24 1\n",
      "博弈 https://leetcode-cn.com/tag/game-theory/ 24 1\n",
      "数据流 https://leetcode-cn.com/tag/data-stream/ 22 1\n",
      "树状数组 https://leetcode-cn.com/tag/binary-indexed-tree/ 21 1\n",
      "字符串匹配 https://leetcode-cn.com/tag/string-matching/ 18 1\n",
      "交互 https://leetcode-cn.com/tag/interactive/ 18 1\n",
      "滚动哈希 https://leetcode-cn.com/tag/rolling-hash/ 16 1\n",
      "最短路 https://leetcode-cn.com/tag/shortest-path/ 16 1\n",
      "组合数学 https://leetcode-cn.com/tag/combinatorics/ 15 1\n",
      "随机化 https://leetcode-cn.com/tag/randomized/ 14 1\n",
      "数论 https://leetcode-cn.com/tag/number-theory/ 14 1\n",
      "归并排序 https://leetcode-cn.com/tag/merge-sort/ 12 1\n",
      "单调队列 https://leetcode-cn.com/tag/monotonic-queue/ 11 1\n",
      "双向链表 https://leetcode-cn.com/tag/doubly-linked-list/ 11 1\n",
      "快速选择 https://leetcode-cn.com/tag/quickselect/ 10 1\n",
      "迭代器 https://leetcode-cn.com/tag/iterator/ 10 1\n",
      "脑筋急转弯 https://leetcode-cn.com/tag/brainteaser/ 10 1\n",
      "概率与统计 https://leetcode-cn.com/tag/probability-and-statistics/ 9 1\n",
      "多线程 https://leetcode-cn.com/tag/concurrency/ 9 1\n",
      "桶排序 https://leetcode-cn.com/tag/bucket-sort/ 8 1\n",
      "计数排序 https://leetcode-cn.com/tag/counting-sort/ 6 1\n",
      "后缀数组 https://leetcode-cn.com/tag/suffix-array/ 5 1\n",
      "最小生成树 https://leetcode-cn.com/tag/minimum-spanning-tree/ 5 1\n",
      "扫描线 https://leetcode-cn.com/tag/line-sweep/ 4 1\n",
      "Shell https://leetcode-cn.com/tag/shell/ 4 1\n",
      "水塘抽样 https://leetcode-cn.com/tag/reservoir-sampling/ 4 1\n",
      "欧拉回路 https://leetcode-cn.com/tag/eulerian-circuit/ 3 1\n",
      "强连通分量 https://leetcode-cn.com/tag/strongly-connected-component/ 2 1\n",
      "拒绝采样 https://leetcode-cn.com/tag/rejection-sampling/ 2 1\n",
      "基数排序 https://leetcode-cn.com/tag/radix-sort/ 2 1\n",
      "双连通分量 https://leetcode-cn.com/tag/biconnected-component/ 1 1\n"
     ]
    }
   ],
   "source": [
    "for i in range(len(a_list)):\n",
    "    print(tag_list[i].text, a_list[i].get_attribute(\"href\")+\"/\", int(ml_list[i].text), math.ceil(int(ml_list[i].text)/50))\n",
    "    tag.append(tag_list[i].text)\n",
    "    a.append(a_list[i].get_attribute(\"href\")+\"/\")\n",
    "    ml.append(int(ml_list[i].text))\n",
    "    page.append(math.ceil(int(ml_list[i].text)/50))"
   ]
  },
  {
   "cell_type": "code",
   "execution_count": 10,
   "id": "458c0143",
   "metadata": {},
   "outputs": [
    {
     "name": "stdout",
     "output_type": "stream",
     "text": [
      "71 71 71 71\n"
     ]
    }
   ],
   "source": [
    "print(len(tag), len(a), len(ml), len(page))"
   ]
  },
  {
   "cell_type": "code",
   "execution_count": 11,
   "id": "f874719b",
   "metadata": {},
   "outputs": [],
   "source": [
    "tag_dic = {\n",
    "    \"标签\": tag,\n",
    "    \"URL\": a,\n",
    "    \"题数\": ml,\n",
    "    \"页数\": page\n",
    "}"
   ]
  },
  {
   "cell_type": "code",
   "execution_count": 12,
   "id": "d5274183",
   "metadata": {},
   "outputs": [
    {
     "data": {
      "text/html": [
       "<div>\n",
       "<style scoped>\n",
       "    .dataframe tbody tr th:only-of-type {\n",
       "        vertical-align: middle;\n",
       "    }\n",
       "\n",
       "    .dataframe tbody tr th {\n",
       "        vertical-align: top;\n",
       "    }\n",
       "\n",
       "    .dataframe thead th {\n",
       "        text-align: right;\n",
       "    }\n",
       "</style>\n",
       "<table border=\"1\" class=\"dataframe\">\n",
       "  <thead>\n",
       "    <tr style=\"text-align: right;\">\n",
       "      <th></th>\n",
       "      <th>标签</th>\n",
       "      <th>URL</th>\n",
       "      <th>题数</th>\n",
       "      <th>页数</th>\n",
       "    </tr>\n",
       "  </thead>\n",
       "  <tbody>\n",
       "    <tr>\n",
       "      <th>0</th>\n",
       "      <td>数组</td>\n",
       "      <td>https://leetcode-cn.com/tag/array/</td>\n",
       "      <td>1225</td>\n",
       "      <td>25</td>\n",
       "    </tr>\n",
       "    <tr>\n",
       "      <th>1</th>\n",
       "      <td>字符串</td>\n",
       "      <td>https://leetcode-cn.com/tag/string/</td>\n",
       "      <td>593</td>\n",
       "      <td>12</td>\n",
       "    </tr>\n",
       "    <tr>\n",
       "      <th>2</th>\n",
       "      <td>哈希表</td>\n",
       "      <td>https://leetcode-cn.com/tag/hash-table/</td>\n",
       "      <td>437</td>\n",
       "      <td>9</td>\n",
       "    </tr>\n",
       "    <tr>\n",
       "      <th>3</th>\n",
       "      <td>动态规划</td>\n",
       "      <td>https://leetcode-cn.com/tag/dynamic-programming/</td>\n",
       "      <td>428</td>\n",
       "      <td>9</td>\n",
       "    </tr>\n",
       "    <tr>\n",
       "      <th>4</th>\n",
       "      <td>数学</td>\n",
       "      <td>https://leetcode-cn.com/tag/math/</td>\n",
       "      <td>415</td>\n",
       "      <td>9</td>\n",
       "    </tr>\n",
       "    <tr>\n",
       "      <th>...</th>\n",
       "      <td>...</td>\n",
       "      <td>...</td>\n",
       "      <td>...</td>\n",
       "      <td>...</td>\n",
       "    </tr>\n",
       "    <tr>\n",
       "      <th>66</th>\n",
       "      <td>欧拉回路</td>\n",
       "      <td>https://leetcode-cn.com/tag/eulerian-circuit/</td>\n",
       "      <td>3</td>\n",
       "      <td>1</td>\n",
       "    </tr>\n",
       "    <tr>\n",
       "      <th>67</th>\n",
       "      <td>强连通分量</td>\n",
       "      <td>https://leetcode-cn.com/tag/strongly-connected...</td>\n",
       "      <td>2</td>\n",
       "      <td>1</td>\n",
       "    </tr>\n",
       "    <tr>\n",
       "      <th>68</th>\n",
       "      <td>拒绝采样</td>\n",
       "      <td>https://leetcode-cn.com/tag/rejection-sampling/</td>\n",
       "      <td>2</td>\n",
       "      <td>1</td>\n",
       "    </tr>\n",
       "    <tr>\n",
       "      <th>69</th>\n",
       "      <td>基数排序</td>\n",
       "      <td>https://leetcode-cn.com/tag/radix-sort/</td>\n",
       "      <td>2</td>\n",
       "      <td>1</td>\n",
       "    </tr>\n",
       "    <tr>\n",
       "      <th>70</th>\n",
       "      <td>双连通分量</td>\n",
       "      <td>https://leetcode-cn.com/tag/biconnected-compon...</td>\n",
       "      <td>1</td>\n",
       "      <td>1</td>\n",
       "    </tr>\n",
       "  </tbody>\n",
       "</table>\n",
       "<p>71 rows × 4 columns</p>\n",
       "</div>"
      ],
      "text/plain": [
       "       标签                                                URL    题数  页数\n",
       "0      数组                 https://leetcode-cn.com/tag/array/  1225  25\n",
       "1     字符串                https://leetcode-cn.com/tag/string/   593  12\n",
       "2     哈希表            https://leetcode-cn.com/tag/hash-table/   437   9\n",
       "3    动态规划   https://leetcode-cn.com/tag/dynamic-programming/   428   9\n",
       "4      数学                  https://leetcode-cn.com/tag/math/   415   9\n",
       "..    ...                                                ...   ...  ..\n",
       "66   欧拉回路      https://leetcode-cn.com/tag/eulerian-circuit/     3   1\n",
       "67  强连通分量  https://leetcode-cn.com/tag/strongly-connected...     2   1\n",
       "68   拒绝采样    https://leetcode-cn.com/tag/rejection-sampling/     2   1\n",
       "69   基数排序            https://leetcode-cn.com/tag/radix-sort/     2   1\n",
       "70  双连通分量  https://leetcode-cn.com/tag/biconnected-compon...     1   1\n",
       "\n",
       "[71 rows x 4 columns]"
      ]
     },
     "execution_count": 12,
     "metadata": {},
     "output_type": "execute_result"
    }
   ],
   "source": [
    "tag_table = pd.DataFrame(tag_dic)\n",
    "tag_table"
   ]
  },
  {
   "cell_type": "code",
   "execution_count": 13,
   "id": "95709ef7",
   "metadata": {},
   "outputs": [],
   "source": [
    "tag_table.to_excel(\"Tags.xlsx\", index=False)"
   ]
  },
  {
   "cell_type": "code",
   "execution_count": null,
   "id": "b6f59289",
   "metadata": {},
   "outputs": [],
   "source": []
  },
  {
   "cell_type": "code",
   "execution_count": null,
   "id": "4453d872",
   "metadata": {},
   "outputs": [],
   "source": []
  }
 ],
 "metadata": {
  "kernelspec": {
   "display_name": "Python 3 (ipykernel)",
   "language": "python",
   "name": "python3"
  },
  "language_info": {
   "codemirror_mode": {
    "name": "ipython",
    "version": 3
   },
   "file_extension": ".py",
   "mimetype": "text/x-python",
   "name": "python",
   "nbconvert_exporter": "python",
   "pygments_lexer": "ipython3",
   "version": "3.8.0"
  }
 },
 "nbformat": 4,
 "nbformat_minor": 5
}
